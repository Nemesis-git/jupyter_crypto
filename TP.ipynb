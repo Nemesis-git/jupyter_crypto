{
 "cells": [
  {
   "cell_type": "markdown",
   "id": "016a5d59",
   "metadata": {},
   "source": [
    "# TP Optimisation des calculs\n",
    "But : Optimiser les calculs afin que le PoC soit exécutable sur l'échantillon des modules de production (~100 000 modules de taille 1024 bits) en un temps raisonnable.\n",
    "\n",
    "Il existe plusieurs manières d'améliorer et optimiser l'exécution d'un programme, ici nous verrons :\n",
    "- L'optimisation algorithmique\n",
    "- L'optimisation via des librairies dédiées aux calculs rapides\n",
    "- L'optimisation via la parallélisation des tâches\n",
    "\n",
    "## Génération d'un échantillon de test\n",
    "Si besoin, voici le code afin de générer un échantillon de plusieurs modules dont certains ont un facteur en commun."
   ]
  },
  {
   "cell_type": "code",
   "execution_count": null,
   "id": "4952d452",
   "metadata": {
    "tags": [
     "hide-input"
    ]
   },
   "outputs": [],
   "source": [
    "from cryptography.hazmat.backends import default_backend\n",
    "from cryptography.hazmat.primitives.asymmetric import rsa\n",
    "from collections import defaultdict\n",
    "\n",
    "from math import ceil"
   ]
  },
  {
   "cell_type": "code",
   "execution_count": null,
   "id": "ae2e3a30",
   "metadata": {},
   "outputs": [],
   "source": [
    "# Génération d'un biclef -> (n, p, q)\n",
    "def e_v_rsa_key_pair(modulus_len):\n",
    "    pri_key = rsa.generate_private_key(public_exponent = 3, key_size = modulus_len, backend = default_backend())\n",
    "    pub_num = pri_key.public_key().public_numbers()\n",
    "    pri_num = pri_key.private_numbers()\n",
    "    return pub_num.n, pri_num.p, pri_num.q\n"
   ]
  },
  {
   "cell_type": "code",
   "execution_count": null,
   "id": "ce338cdd",
   "metadata": {},
   "outputs": [],
   "source": [
    "# Génération d'un jeu de test —— avec quelques cas tordus\n",
    "# >> Module « calimero » : ses deux facteurs premiers se retrouvent dans le super-module (c'est vraiment trop inzuste)\n",
    "# >> Modules « super-calimeros » : calimeros qui se calimérisent entre eux\n",
    "# >> Doublons\n",
    "def e_v_rsa_test_vector(modulus_len, modulus_count, filename_moduli):\n",
    "    print(\"Génération des biclefs de test...\")\n",
    "    percent = ceil(modulus_count/100)\n",
    "\n",
    "    key_pairs = []\n",
    "\n",
    "    # n1 = p1 * q1 -> Cassé avec c\n",
    "    # n2 = p2 * q2 -> Cassé avec c\n",
    "    #  c = p1 * p2 -> Calimero\n",
    "\n",
    "    kp1 = e_v_rsa_key_pair(modulus_len)\n",
    "    kp2 = e_v_rsa_key_pair(modulus_len)\n",
    "\n",
    "    p1 = kp1[1]\n",
    "    p2 = kp2[1]\n",
    "\n",
    "    c = (p1 * p2, p1, p2)\n",
    "\n",
    "    key_pairs.append(kp1)\n",
    "    key_pairs.append(kp2)\n",
    "\n",
    "    # s1 = x * y |\n",
    "    # s2 = y * z | -> Super-calimeros (ou cyclo-calimeros)\n",
    "    # s3 = z * x |\n",
    "\n",
    "    s1 = e_v_rsa_key_pair(modulus_len)\n",
    "    s2 = e_v_rsa_key_pair(modulus_len)\n",
    "\n",
    "    x = s1[1]\n",
    "    y = s1[2]\n",
    "    z = s2[2]\n",
    "\n",
    "    s2 = y * z, y, z\n",
    "    s3 = z * x, z, x\n",
    "\n",
    "    key_pairs.append(s1)\n",
    "    key_pairs.append(s2)\n",
    "\n",
    "    for i in range(modulus_count - 3 - 3):\n",
    "\n",
    "        if i % percent == 0: print(f\"{i // percent}% \", end = \"\")\n",
    "\n",
    "        key_pairs.append(e_v_rsa_key_pair(modulus_len))\n",
    "\n",
    "    print(\"\\n\")\n",
    "\n",
    "    key_pairs.append(c)\n",
    "    key_pairs.append(c) # Doublon (hyper-calimero)\n",
    "    key_pairs.append(s3)\n",
    "    key_pairs.append(s3)\n",
    "    key_pairs.append(s3)\n",
    "\n",
    "    with open(filename_moduli, 'w') as f: f.writelines( [ f\"{kp[0]:x}\\n\" for kp in key_pairs ] )\n"
   ]
  },
  {
   "cell_type": "code",
   "execution_count": null,
   "id": "7aa2e30f",
   "metadata": {},
   "outputs": [],
   "source": [
    "# Vérification du fichier des modules, suppression des doublons\n",
    "def e_vs_rsa_check(filename_moduli):\n",
    "    with open(filename_moduli, 'r') as f: moduli = [ line.strip() for line in f ]\n",
    "    moduli_dic = defaultdict(list)\n",
    "    for i, modulus in enumerate(moduli, 1): moduli_dic[modulus].append(i)\n",
    "    duplicates = [ (indices, modulus) for modulus, indices in moduli_dic.items() if len(indices) > 1 ]\n",
    "    print(f\"Modules dupliqués... {len(duplicates)} !\\n\")\n",
    "\n",
    "    if duplicates != []:\n",
    "        for indices, modulus in duplicates: print( f\"# {indices}\\nn = {modulus}\\n\" )\n",
    "        with open(filename_moduli, 'w') as f: f.writelines( [ modulus + \"\\n\" for modulus, _ in moduli_dic.items() ] )\n"
   ]
  },
  {
   "cell_type": "code",
   "execution_count": null,
   "id": "113b47dd",
   "metadata": {},
   "outputs": [],
   "source": [
    "# Paramètres pour la génération de modules\n",
    "modulus_len = 1024\n",
    "#modulus_count = 1_000\n",
    "#modulus_count = 10_000\n",
    "modulus_count = 100_000\n",
    "\n",
    "filename_moduli = f\"e_vs_rsa_moduli_{modulus_len}b×{modulus_count}.txt\"\n",
    "\n",
    "# Génération des modules\n",
    "e_v_rsa_test_vector(modulus_len, modulus_count, filename_moduli)\n",
    "\n",
    "# Vérification si doublons\n",
    "e_vs_rsa_check(filename_moduli)\n",
    "\n",
    "print(f\"Modules enregistrés dans le fichier : {filename_moduli}\")"
   ]
  },
  {
   "cell_type": "markdown",
   "id": "aba3a7d6",
   "metadata": {},
   "source": [
    "## Code sans optimisation"
   ]
  },
  {
   "cell_type": "code",
   "execution_count": null,
   "id": "fbead8fa",
   "metadata": {},
   "outputs": [],
   "source": [
    "from math import ceil, gcd"
   ]
  },
  {
   "cell_type": "code",
   "execution_count": null,
   "id": "e16114d7",
   "metadata": {},
   "outputs": [],
   "source": [
    "# Coeur du PoC, vérification des facteurs communs\n",
    "def e_vs_rsa_qad(moduli):\n",
    "    euclided = []\n",
    "    percent = ceil( len(moduli) / 100 )\n",
    "    compteur = 0\n",
    "    \n",
    "    # Parcours simple, sinon simpliste, des modules entre eux\n",
    "    for i, modulus1 in enumerate(moduli, 1):\n",
    "        \n",
    "        # Affichage de l'avancement\n",
    "        if i % percent == 0: \n",
    "            print(f\"{i // percent}% \", end = \"\")\n",
    "\n",
    "        for j, modulus2 in enumerate(moduli[i:], i+1):\n",
    "            compteur += 1\n",
    "            # Verification si module en commun\n",
    "            g = gcd(modulus1, modulus2)\n",
    "            \n",
    "            if g != 1: \n",
    "                euclided.append( (i, j, modulus1, g, modulus1 // g) )\n",
    "                euclided.append( (j, i, modulus2, g, modulus2 // g) )\n",
    "\n",
    "    print(f\"\\n Nombre d'itérations : {compteur}\")\n",
    "    return euclided"
   ]
  },
  {
   "cell_type": "code",
   "execution_count": null,
   "id": "ad983544",
   "metadata": {},
   "outputs": [],
   "source": [
    "# Fonction principale\n",
    "def e_vs_rsa(filename_moduli):\n",
    "    # Récupération des modules stockés dans un fichier\n",
    "    with open(filename_moduli, \"r\") as f_moduli:\n",
    "        moduli = [ int(line, base=16) for line in f_moduli ]\n",
    "\n",
    "    # Vérification des facteurs communs\n",
    "    euclided = e_vs_rsa_qad(moduli)\n",
    "    \n",
    "    # Ecriture et affichage des résultats\n",
    "    with open(filename_moduli + \".txt\", 'w') as f:\n",
    "        res = f\"Modules factorisés... {len(euclided)} !\\n\\n\"\n",
    "\n",
    "        for i, j, n, p, q in euclided: res += f\"# {i} (avec {j})\\nn = {n:#x} \\np = {p:#x} \\nq = {q:#x}\\n\\n\"\n",
    "\n",
    "        res = res.rstrip()\n",
    "\n",
    "        f.writelines(res)\n",
    "\n",
    "        print(\"\\n\\n\" + res)"
   ]
  },
  {
   "cell_type": "code",
   "execution_count": null,
   "id": "8cca4aae",
   "metadata": {},
   "outputs": [],
   "source": [
    "%%time\n",
    "filename_moduli = \"e_vs_rsa_mod_1024_10_3.txt\"\n",
    "#filename_moduli = \"e_vs_rsa_mod_1024_10_4.txt\"\n",
    "#filename_moduli = \"e_vs_rsa_mod_1024_10_5.txt\"\n",
    "\n",
    "# Recherche de facteurs communs\n",
    "e_vs_rsa(filename_moduli)"
   ]
  },
  {
   "cell_type": "markdown",
   "id": "166a01f2",
   "metadata": {},
   "source": [
    "## Optimisation algorithmique : le super-module"
   ]
  },
  {
   "cell_type": "code",
   "execution_count": null,
   "id": "1309d395",
   "metadata": {},
   "outputs": [],
   "source": [
    "from math import ceil, gcd"
   ]
  },
  {
   "cell_type": "markdown",
   "id": "e318fd4b",
   "metadata": {},
   "source": [
    "Pour calculer le super-module il est nécessaire de multiplier tous les modules entre eux (ici stockés dans une liste). Quelle est la manière naïve de multiplier tous les éléments d'une liste ?"
   ]
  },
  {
   "cell_type": "code",
   "execution_count": null,
   "id": "ed6d6f5f",
   "metadata": {},
   "outputs": [],
   "source": [
    "# Calcul du grand produit à partir d'une liste de facteurs - A compléter\n",
    "def mult(factors):\n",
    "    # A compléter, doit retourner le produit d'une liste\n"
   ]
  },
  {
   "cell_type": "markdown",
   "id": "f4d97154",
   "metadata": {},
   "source": [
    "<details>\n",
    "\n",
    "<summary>Solution</summary>\n",
    "\n",
    "```python\n",
    "def mult(factors):\n",
    "    res = 1\n",
    "\n",
    "    for factor in factors:\n",
    "        res*= factor\n",
    "    \n",
    "    return res\n",
    "```\n",
    "</details>"
   ]
  },
  {
   "cell_type": "code",
   "execution_count": null,
   "id": "132700d7",
   "metadata": {},
   "outputs": [],
   "source": [
    "# Calcul du super-module et écriture de ce dernier —— plus subtil qu'il n'y paraît\n",
    "def e_vs_rsa_super(filename_moduli):\n",
    "    # Récupération des modules stockés dans un fichier\n",
    "    with open(filename_moduli, \"r\") as f: \n",
    "        moduli = [ int(line, base=16) for line in f ]\n",
    "    \n",
    "    # Calcul du super-module\n",
    "    super_modulus = mult(moduli)\n",
    "    \n",
    "    # Ecriture du super-module\n",
    "    with open(filename_moduli + \".bin\", \"wb\") as f:\n",
    "        super_modulus_len = ceil(super_modulus.bit_length()/8)\n",
    "        f.write(super_modulus.to_bytes(super_modulus_len, byteorder=\"big\"))"
   ]
  },
  {
   "cell_type": "code",
   "execution_count": null,
   "id": "50d172f2",
   "metadata": {},
   "outputs": [],
   "source": [
    "# Coeur du PoC, vérification des facteurs communs\n",
    "def e_vs_rsa_qad(moduli, super_modulus):\n",
    "    euclided, usual_suspects = [], []\n",
    "    percent = ceil( len(moduli) / 100 )\n",
    "\n",
    "    print(\"Parcours super-module...\")\n",
    "\n",
    "    # Parcours simple, sinon simpliste, des modules contre le super-module\n",
    "    for i, modulus in enumerate(moduli, 1):\n",
    "        \n",
    "        # Affichage de l'avancement\n",
    "        if i % percent == 0: \n",
    "            print(f\"{i // percent}% \", end = \"\")\n",
    "\n",
    "        # Verification si module en commun\n",
    "        g = gcd(modulus, super_modulus // modulus)\n",
    "\n",
    "        if g != 1: \n",
    "            usual_suspects.append( (i, modulus) ) # On en tient un\n",
    "\n",
    "    # Parcours quadratique, réputé bref, des modules factorisables\n",
    "    for i, modulus in usual_suspects:\n",
    "        for j, not_modulus in usual_suspects:\n",
    "\n",
    "            g = gcd(modulus, not_modulus)\n",
    "\n",
    "            if 1 < g < modulus:\n",
    "\n",
    "                euclided.append( (i, j, modulus, g, modulus // g) )\n",
    "\n",
    "                break\n",
    "\n",
    "    return euclided"
   ]
  },
  {
   "cell_type": "code",
   "execution_count": null,
   "id": "7b643a38",
   "metadata": {},
   "outputs": [],
   "source": [
    "# Fonction principale\n",
    "def e_vs_rsa(filename_moduli):\n",
    "    # Récupération des modules stockés dans un fichier\n",
    "    with open(filename_moduli, \"r\") as f_moduli, open(filename_moduli + \".bin\", \"rb\") as f_super_modulus:\n",
    "        moduli = [ int(line, base=16) for line in f_moduli ]\n",
    "        \n",
    "        # Récupération du super-module\n",
    "        super_modulus = int.from_bytes(f_super_modulus.read(), byteorder=\"big\")\n",
    "\n",
    "    # Vérification des facteurs communs\n",
    "    euclided = e_vs_rsa_qad(moduli, super_modulus)\n",
    "\n",
    "    # Ecriture et affichage des résultats\n",
    "    with open(filename_moduli + \".txt\", 'w') as f:\n",
    "        res = f\"Modules factorisés... {len(euclided)} !\\n\\n\"\n",
    "\n",
    "        for i, j, n, p, q in euclided: res += f\"# {i} (avec {j})\\nn = {n:#x} \\np = {p:#x} \\nq = {q:#x}\\n\\n\"\n",
    "\n",
    "        res = res.rstrip()\n",
    "\n",
    "        f.writelines(res)\n",
    "\n",
    "        print(\"\\n\\n\" + res)"
   ]
  },
  {
   "cell_type": "code",
   "execution_count": null,
   "id": "a3a2af82",
   "metadata": {},
   "outputs": [],
   "source": [
    "%%time\n",
    "filename_moduli = \"e_vs_rsa_mod_1024_10_3.txt\"\n",
    "#filename_moduli = \"e_vs_rsa_mod_1024_10_4.txt\"\n",
    "#filename_moduli = \"e_vs_rsa_mod_1024_10_5.txt\"\n",
    "\n",
    "# Calcul du super modulo\n",
    "e_vs_rsa_super(filename_moduli)"
   ]
  },
  {
   "cell_type": "code",
   "execution_count": null,
   "id": "8dd02f95",
   "metadata": {},
   "outputs": [],
   "source": [
    "%%time\n",
    "# Recherche de facteurs communs\n",
    "e_vs_rsa(filename_moduli)"
   ]
  },
  {
   "cell_type": "markdown",
   "id": "b91658ea",
   "metadata": {},
   "source": [
    "## Optimisation algorithmique : la multiplication"
   ]
  },
  {
   "cell_type": "code",
   "execution_count": null,
   "id": "88e2b12a",
   "metadata": {},
   "outputs": [],
   "source": [
    "# Calcul du grand produit optimisé de manière récursive - A compléter\n",
    "def mult(factors):\n",
    "    # A compléter, doit retourner le produit d'une liste\n",
    "    \n",
    "    "
   ]
  },
  {
   "cell_type": "markdown",
   "id": "0e1438a7",
   "metadata": {},
   "source": [
    "<details>\n",
    "\n",
    "<summary>Solution</summary>\n",
    "\n",
    "```python\n",
    "def mult(factors):\n",
    "    factors_len = len(factors)\n",
    "    \n",
    "    if factors_len == 1: \n",
    "        return factors[0]\n",
    "    \n",
    "    else: \n",
    "        return mult( factors[:factors_len//2] ) * mult( factors[factors_len//2:] )\n",
    "```\n",
    "</details>"
   ]
  },
  {
   "cell_type": "code",
   "execution_count": null,
   "id": "dd303abb",
   "metadata": {
    "scrolled": true
   },
   "outputs": [],
   "source": [
    "%%time\n",
    "filename_moduli = \"e_vs_rsa_mod_1024_10_3.txt\"\n",
    "#filename_moduli = \"e_vs_rsa_mod_1024_10_4.txt\"\n",
    "#filename_moduli = \"e_vs_rsa_mod_1024_10_5.txt\"\n",
    "\n",
    "# Calcul du super modulo\n",
    "e_vs_rsa_super(filename_moduli)"
   ]
  },
  {
   "cell_type": "markdown",
   "id": "dc506073",
   "metadata": {},
   "source": [
    "## Optimisation via l'utilisation de librairies dédiées aux calculs rapides\n",
    "Ici via l'utilisation de la librairie gmpy2 (https://gmpy2.readthedocs.io/en/latest/)\n",
    "\n",
    "A noter que l'installation d'une librairie est importante, les librairies proposées par Anaconda sont par exemple plus optimisées (dont Numpy, Pandas, Scikit, ...)."
   ]
  },
  {
   "cell_type": "code",
   "execution_count": null,
   "id": "a5d4de06",
   "metadata": {},
   "outputs": [],
   "source": [
    "from math import ceil\n",
    "\n",
    "from gmpy2 import mpz, mul, to_binary, from_binary, gcd, divexact"
   ]
  },
  {
   "cell_type": "code",
   "execution_count": null,
   "id": "0c5c9ad7",
   "metadata": {},
   "outputs": [],
   "source": [
    "# Calcul du grand produit —— plus subtil qu'il n'y paraît\n",
    "def mult(factors):\n",
    "    factors_len = len(factors)\n",
    "    \n",
    "    if factors_len == 1: \n",
    "        return factors[0]\n",
    "    \n",
    "    else: \n",
    "        return mul(mult( factors[:factors_len//2] ), mult( factors[factors_len//2:] ))"
   ]
  },
  {
   "cell_type": "code",
   "execution_count": null,
   "id": "66337fdc",
   "metadata": {},
   "outputs": [],
   "source": [
    "# Calcul du super-module et écriture binaire de ce dernier\n",
    "def e_vs_rsa_super(filename_moduli):\n",
    "    with open(filename_moduli, 'r') as f:\n",
    "        moduli = [ mpz(int(line, base=16)) for line in f ] # Il y a du changement ici\n",
    "        super_modulus = mult(moduli)\n",
    "        \n",
    "    with open(filename_moduli + \".bin\", \"wb\") as f : # Il y a du changement ici\n",
    "        f.write(to_binary(super_modulus))"
   ]
  },
  {
   "cell_type": "code",
   "execution_count": null,
   "id": "2ec0a0ef",
   "metadata": {},
   "outputs": [],
   "source": [
    "# Coeur du PoC, vérification des facteurs communs\n",
    "def e_vs_rsa_qad(moduli, super_modulus):\n",
    "    euclided, usual_suspects = [], []\n",
    "    percent = ceil( len(moduli) / 100 )\n",
    "\n",
    "    print(\"Parcours super-module...\")\n",
    "\n",
    "    # Parcours simple, sinon simpliste, des modules contre le super-module\n",
    "    for i, modulus in enumerate(moduli, 1):\n",
    "\n",
    "        if i % percent == 0: \n",
    "            print(f\"{i // percent}% \", end = \"\")\n",
    "\n",
    "        g = gcd(modulus, divexact(super_modulus, modulus))\n",
    "\n",
    "        if g != 1: \n",
    "            usual_suspects.append( (i, modulus) ) # On en tient un\n",
    "\n",
    "    # Parcours quadratique, réputé bref, des modules factorisables\n",
    "    for i, modulus in usual_suspects:\n",
    "        for j, not_modulus in usual_suspects:\n",
    "\n",
    "            g = gcd(modulus, not_modulus)\n",
    "\n",
    "            if 1 < g < modulus:\n",
    "\n",
    "                euclided.append( (i, j, modulus, g, divexact(modulus, g)) )\n",
    "\n",
    "                break\n",
    "\n",
    "    return euclided"
   ]
  },
  {
   "cell_type": "code",
   "execution_count": null,
   "id": "60e3be5a",
   "metadata": {},
   "outputs": [],
   "source": [
    "# Fonction principale\n",
    "def e_vs_rsa(filename_moduli):\n",
    "\n",
    "    with open(filename_moduli, \"r\") as f_moduli, open(filename_moduli + \".bin\", \"rb\") as f_super_modulus:\n",
    "        moduli = [ mpz(int(line, base=16)) for line in f_moduli ] # Il y a du changement ici\n",
    "        super_modulus = from_binary(f_super_modulus.read())\n",
    "\n",
    "    euclided = e_vs_rsa_qad(moduli, super_modulus)\n",
    "\n",
    "    with open(filename_moduli + \".txt\", 'w') as f:\n",
    "\n",
    "        res = f\"Modules factorisés... {len(euclided)} !\\n\\n\"\n",
    "\n",
    "        for i, j, n, p, q in euclided: res += f\"# {i} (avec {j})\\nn = {n:#x} \\np = {p:#x} \\nq = {q:#x}\\n\\n\"\n",
    "\n",
    "        res = res.rstrip()\n",
    "\n",
    "        f.writelines(res)\n",
    "\n",
    "        print(\"\\n\\n\" + res)"
   ]
  },
  {
   "cell_type": "code",
   "execution_count": null,
   "id": "a7d17d71",
   "metadata": {},
   "outputs": [],
   "source": [
    "%%time\n",
    "filename_moduli = \"e_vs_rsa_mod_1024_10_3.txt\"\n",
    "#filename_moduli = \"e_vs_rsa_mod_1024_10_4.txt\"\n",
    "#filename_moduli = \"e_vs_rsa_mod_1024_10_5.txt\"\n",
    "\n",
    "# Calcul du super modulo\n",
    "e_vs_rsa_super(filename_moduli)"
   ]
  },
  {
   "cell_type": "code",
   "execution_count": null,
   "id": "b8537c61",
   "metadata": {},
   "outputs": [],
   "source": [
    "%%time\n",
    "# Recherche de facteurs communs\n",
    "e_vs_rsa(filename_moduli)"
   ]
  },
  {
   "cell_type": "markdown",
   "id": "634a6101",
   "metadata": {},
   "source": [
    "## Optimisation via parallélisation des calculs\n",
    "Ici via l'utilisation de la librairie multiprocessing (https://docs.python.org/3/library/multiprocessing.html)"
   ]
  },
  {
   "cell_type": "code",
   "execution_count": null,
   "id": "2fffd4ad",
   "metadata": {},
   "outputs": [],
   "source": [
    "# Commande pour déterminer le nombre de cores CPU disponibles sur le système\n",
    "!lscpu"
   ]
  },
  {
   "cell_type": "code",
   "execution_count": null,
   "id": "6e0ddd38",
   "metadata": {},
   "outputs": [],
   "source": [
    "from gmpy2 import mpz, mul, to_binary, from_binary, gcd, divexact\n",
    "\n",
    "from multiprocessing import Pool\n",
    "import numpy as np"
   ]
  },
  {
   "cell_type": "code",
   "execution_count": null,
   "id": "ed62c7c0",
   "metadata": {},
   "outputs": [],
   "source": [
    "# Vérification si module premier avec le supermodule, fonction appelée par le pool de process\n",
    "def compute_modulus(modulus, super_modulus):\n",
    "    # A compléter, doit retourner une liste de modules\n",
    "    \n",
    "    "
   ]
  },
  {
   "cell_type": "markdown",
   "id": "1f870df5",
   "metadata": {},
   "source": [
    "<details>\n",
    "\n",
    "<summary>Solution</summary>\n",
    "\n",
    "```python\n",
    "def compute_modulus(modulus, super_modulus):\n",
    "    suspects = []\n",
    "    for m in modulus :\n",
    "        g = gcd(m, divexact(super_modulus, m))\n",
    "        if g != 1:\n",
    "            suspects.append(m)\n",
    "    return suspects\n",
    "```\n",
    "</details>"
   ]
  },
  {
   "cell_type": "code",
   "execution_count": null,
   "id": "f72bd34d",
   "metadata": {},
   "outputs": [],
   "source": [
    "# Fonction (callback) appelée à la fin d'un processus, permet de récupérer les résultats\n",
    "def compute_result(suspects):\n",
    "    global usual_suspects\n",
    "    usual_suspects += suspects"
   ]
  },
  {
   "cell_type": "code",
   "execution_count": null,
   "id": "65a2153b",
   "metadata": {},
   "outputs": [],
   "source": [
    "# Coeur du PoC, vérification des facteurs communs\n",
    "def e_vs_rsa_qad(moduli, super_modulus, process_number):\n",
    "    euclided = []\n",
    "\n",
    "    print(\"Parcours super-module...\")\n",
    "\n",
    "    # Création du pool de process\n",
    "    pool = Pool(processes=process_number)\n",
    "\n",
    "    # On coupe la liste de modules en n sous listes avec n le nombre de processus\n",
    "    split_moduli = np.array_split(moduli, process_number)\n",
    "\n",
    "    # On parcourt les différentes sous-listes, puis on ajoute au pool les arguments\n",
    "    for modulus in split_moduli :\n",
    "        pool.apply_async(compute_modulus, args=(modulus, super_modulus), callback=compute_result)\n",
    "    \n",
    "    # On n'a plus besoin de la pool donc on peut la fermer\n",
    "    pool.close()\n",
    "\n",
    "    # On attend le travail des workers\n",
    "    pool.join()\n",
    "    \n",
    "  # Parcours quadratique, réputé bref, des modules factorisables\n",
    "    for modulus in usual_suspects:\n",
    "        for not_modulus in usual_suspects:\n",
    "            g = gcd(modulus, not_modulus)\n",
    "            if 1 < g < modulus:\n",
    "                euclided.append( (modulus, g, divexact(modulus, g)) )\n",
    "                break\n",
    "\n",
    "    return euclided"
   ]
  },
  {
   "cell_type": "code",
   "execution_count": null,
   "id": "792e2638",
   "metadata": {},
   "outputs": [],
   "source": [
    "# Fonction principale\n",
    "def e_vs_rsa(filename_moduli, process_number):\n",
    "    with open(filename_moduli, \"r\") as f_moduli, open(filename_moduli + \".bin\", \"rb\") as f_super_modulus:\n",
    "        moduli = [ mpz(int(line, base=16)) for line in f_moduli ]\n",
    "        super_modulus = from_binary(f_super_modulus.read())\n",
    "\n",
    "    euclided = e_vs_rsa_qad(moduli, super_modulus, process_number)\n",
    "\n",
    "    with open(filename_moduli + \".txt\", 'w') as f:\n",
    "        res = f\"Modules factorisés... {len(euclided)} !\\n\\n\"\n",
    "        for n, p, q in euclided: res += f\"n = {n:#x} \\np = {p:#x} \\nq = {q:#x}\\n\\n\"\n",
    "        res = res.rstrip()\n",
    "        f.writelines(res)\n",
    "        print(\"\\n\\n\" + res)"
   ]
  },
  {
   "cell_type": "code",
   "execution_count": null,
   "id": "efa4e1c7",
   "metadata": {},
   "outputs": [],
   "source": [
    "%%time\n",
    "filename_moduli = \"e_vs_rsa_mod_1024_10_3.txt\"\n",
    "#filename_moduli = \"e_vs_rsa_mod_1024_10_4.txt\"\n",
    "#filename_moduli = \"e_vs_rsa_mod_1024_10_5.txt\"\n",
    "\n",
    "# Calcul du super modulo\n",
    "e_vs_rsa_super(filename_moduli)"
   ]
  },
  {
   "cell_type": "code",
   "execution_count": null,
   "id": "a114eaa3",
   "metadata": {},
   "outputs": [],
   "source": [
    "%%time\n",
    "# Nombre de processus à utiliser, doit être inférieur ou égal au nombre de cores\n",
    "process_number = 4\n",
    "\n",
    "# On initialise la variable globale qui sera modifiée par les callbacks\n",
    "usual_suspects = []\n",
    "\n",
    "# Recherche de facteurs communs\n",
    "e_vs_rsa(filename_moduli, process_number)"
   ]
  }
 ],
 "metadata": {
  "kernelspec": {
   "display_name": "RSA_env",
   "language": "python",
   "name": "rsa_env"
  },
  "language_info": {
   "codemirror_mode": {
    "name": "ipython",
    "version": 3
   },
   "file_extension": ".py",
   "mimetype": "text/x-python",
   "name": "python",
   "nbconvert_exporter": "python",
   "pygments_lexer": "ipython3",
   "version": "3.10.2"
  }
 },
 "nbformat": 4,
 "nbformat_minor": 5
}
